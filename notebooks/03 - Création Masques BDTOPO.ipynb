{
 "cells": [
  {
   "cell_type": "code",
   "execution_count": 2,
   "metadata": {},
   "outputs": [],
   "source": [
    "# 03 - Création Masques BDTOPO\n",
    "# Crée l'ensemble des masques indiquant la présence ou non d'un bâtiment\n",
    "# En entrée :\n",
    "#   - dft = bdtopo.pkl : base BDTOPO des polygones\n",
    "#   - dfi = bdortho.pkl : dataframe de l'ensemble des images 1000x1000\n",
    "# En sortie :\n",
    "#   - masques enregistrés dans le répertoire choisi\n",
    "#   - dfi mis à jour avec le nom des fichiers des masques et le nombre de polygones par image"
   ]
  },
  {
   "cell_type": "code",
   "execution_count": 7,
   "metadata": {},
   "outputs": [],
   "source": [
    "# Paths globaux\n",
    "HOME = '/Users/u600141/OneDrive - La Francaise des Jeux/Data/constructions/'\n",
    "PATHS_BDTOPO_PICKLE = 'images/BDTOPO/pickle/'\n",
    "\n",
    "# Si RGB\n",
    "PATHS_BDTOPO_MASKS = 'images/BDORTHO_RGB/masks_1000x1000/'\n",
    "PATHS_BDORTHO_PICKLE = HOME + 'images/BDORTHO_RGB/pickle/'\n",
    "\n",
    "# Si IRC\n",
    "\"\"\"\n",
    "PATHS_BDTOPO_MASKS = 'images/BDORTHO_IRC/masks_1000x1000/'\n",
    "PATHS_BDORTHO_PICKLE = HOME + 'images/BDORTHO_IRC/pickle/'\n",
    "\"\"\"\n",
    "\n",
    "# Définitions globales\n",
    "K = 1000 # Taille des images\n"
   ]
  },
  {
   "cell_type": "code",
   "execution_count": 8,
   "metadata": {},
   "outputs": [],
   "source": [
    "# Imports\n",
    "import numpy as np\n",
    "import pandas as pd\n",
    "import geopandas as gpd\n",
    "import shapely as sh\n",
    "import glob\n",
    "import matplotlib.pyplot as plt\n",
    "import cv2\n",
    "import rasterio.features\n",
    "from affine import Affine"
   ]
  },
  {
   "cell_type": "code",
   "execution_count": 13,
   "metadata": {},
   "outputs": [
    {
     "name": "stdout",
     "output_type": "stream",
     "text": [
      "dft chargé, taille : 694950\n",
      "dfi chargé, taille : 11875\n"
     ]
    }
   ],
   "source": [
    "# Chargement des méta-données BDTOPO\n",
    "dft = pd.read_pickle(PATHS_BDTOPO_PICKLE + 'dft.pkl')\n",
    "print (f'dft chargé, taille : {len(dft)}')\n",
    "\n",
    "# Chargement des méta-données BDORTHO\n",
    "dfi = pd.read_pickle(PATHS_BDORTHO_PICKLE + 'dfi.pkl')\n",
    "print (f'dfi chargé, taille : {len(dfi)}')\n"
   ]
  },
  {
   "cell_type": "code",
   "execution_count": 10,
   "metadata": {},
   "outputs": [],
   "source": [
    "# notmalizePolygons() permet de normaliser, si nécessaire, les coordonnées des polygones :\n",
    "#   - entre 0 et 1\n",
    "#   - origine en haut à gauche (d'où reverseY)\n",
    "#   - abs() est utilisée pour supprimer les erreurs d'arrondi négatif vers 0\n",
    "# Cette normalisation est notamment nécessaire pour les modèles YOLO\n",
    "def normalizePolygon(xy, xrange, yrange, reverseY=False):\n",
    "    if (reverseY==True):\n",
    "        ret = abs((xy - [xrange[0], yrange[1]]) * [1/(xrange[1]-xrange[0]), 1/(yrange[0]-yrange[1])])\n",
    "    else:\n",
    "        ret = abs((xy - [xrange[0], yrange[0]]) * [1/(xrange[1]-xrange[0]), 1/(yrange[1]-yrange[0])])\n",
    "    return ret\n",
    "\n",
    "# getIntersectingPolygons() retourne les polygones en intersection avec le rectangle,\n",
    "#    de surface > minArea, normalisés si nécessaire et avec les coordonnées de haut en bas si nécessaire\n",
    "def getIntersectingPolygons(df, xrange, yrange, minArea=0, normalize=False, reverseY=False):\n",
    "    rect_poly = sh.Polygon([(xrange[0], yrange[0]),\n",
    "                            (xrange[1], yrange[0]),\n",
    "                            (xrange[1], yrange[1]),\n",
    "                            (xrange[0], yrange[1])])\n",
    "    intersect = df['geometry'].values.intersection(rect_poly)\n",
    "    intersect = intersect[~ intersect.is_empty]\n",
    "    if (normalize==True):\n",
    "        intersect = gpd.GeoSeries(sh.transform(intersect, lambda p : normalizePolygon(p, xrange, yrange, reverseY)))\n",
    "    if (minArea > 0):\n",
    "        intersect = intersect[intersect.area >= minArea]\n",
    "    return intersect"
   ]
  },
  {
   "cell_type": "code",
   "execution_count": null,
   "metadata": {},
   "outputs": [],
   "source": [
    "# Création des masques BDTOPO et ajout de leur path dans le dataframe des méta-données des images (dfi)\n",
    "# On ajoute également le nombde de polygones de chaque image\n",
    "\n",
    "mask_filenames = []\n",
    "nb_polygons = []\n",
    "\n",
    "for index, row in dfi.iterrows():\n",
    "    xrange, yrange = row['xrange'], row['yrange']\n",
    "    intersect = getIntersectingPolygons(dft, xrange=xrange, yrange=yrange)\n",
    "    if (len(intersect)==0):\n",
    "        img = np.zeros((K, K))\n",
    "    else:\n",
    "        aff = Affine((xrange[1]-xrange[0])/K, 0.0, xrange[0], 0.0, -(yrange[1]-yrange[0])/K, yrange[1])\n",
    "        img = rasterio.features.rasterize(intersect, out_shape=(K, K), transform=aff) * 255\n",
    "    nb_polygons.append(len(intersect))\n",
    "    filename = PATHS_BDTOPO_MASKS + 'mask-' + row['filename'].split('/')[3].replace('.jpg', '.png')\n",
    "    cv2.imwrite(filename, img)\n",
    "    mask_filenames.append(filename)\n",
    "\n",
    "dfi['mask_filename'] = mask_filenames\n",
    "dfi['NumberOfPolygons'] = nb_polygons"
   ]
  },
  {
   "cell_type": "code",
   "execution_count": 6,
   "metadata": {},
   "outputs": [
    {
     "name": "stdout",
     "output_type": "stream",
     "text": [
      "DataFrame sauvegardé sous : /Users/u600141/OneDrive - La Francaise des Jeux/Data/constructions/images/BDORTHO_IRC/pickle/df_images_meta.pkl\n"
     ]
    }
   ],
   "source": [
    "# Mise à jour du dataframe au format pickle .pkl\n",
    "\n",
    "path = PATHS_BDORTHO_PICKLE + 'dfi.pkl'\n",
    "dfi.to_pickle(path)\n",
    "print (f'DataFrame sauvegardé sous : {path}')\n"
   ]
  }
 ],
 "metadata": {
  "kernelspec": {
   "display_name": "Python 3",
   "language": "python",
   "name": "python3"
  },
  "language_info": {
   "codemirror_mode": {
    "name": "ipython",
    "version": 3
   },
   "file_extension": ".py",
   "mimetype": "text/x-python",
   "name": "python",
   "nbconvert_exporter": "python",
   "pygments_lexer": "ipython3",
   "version": "3.11.5"
  },
  "orig_nbformat": 4
 },
 "nbformat": 4,
 "nbformat_minor": 2
}
