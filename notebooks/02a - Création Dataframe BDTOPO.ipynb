{
 "cells": [
  {
   "cell_type": "code",
   "execution_count": 1,
   "metadata": {},
   "outputs": [],
   "source": [
    "# 02a - Création dataframe dft, qui contient les données de BDTOPO\n",
    "# Charge les données de BDTOPO, les met en forme et les sauvegarde au format pickle .pkl"
   ]
  },
  {
   "cell_type": "code",
   "execution_count": 1,
   "metadata": {},
   "outputs": [],
   "source": [
    "# Paths globaux\n",
    "HOME = '/Users/u600141/OneDrive - La Francaise des Jeux/Data/constructions/'\n",
    "PATHS_BDTOPO = HOME + 'images/BDTOPO/source/1_DONNEES_LIVRAISON_2023-06-00117/BDT_3-3_SHP_LAMB93_D092-ED2023-06-15/*/*.shp'\n",
    "PATHS_BDTOPO_PICKLE = HOME + 'images/BDTOPO/pickle/'"
   ]
  },
  {
   "cell_type": "code",
   "execution_count": 2,
   "metadata": {},
   "outputs": [],
   "source": [
    "# Imports\n",
    "import glob\n",
    "import os\n",
    "import pandas as pd\n",
    "import geopandas as gpd"
   ]
  },
  {
   "cell_type": "code",
   "execution_count": 5,
   "metadata": {},
   "outputs": [
    {
     "name": "stdout",
     "output_type": "stream",
     "text": [
      "Ajouté : CONSTRUCTION_SURFACIQUE.shp\n",
      "Ajouté : CONSTRUCTION_LINEAIRE.shp\n",
      "Ajouté : CONSTRUCTION_PONCTUELLE.shp\n",
      "Ajouté : TERRAIN_DE_SPORT.shp\n",
      "Ajouté : TOPONYMIE_BATI.shp\n",
      "Ajouté : LIGNE_OROGRAPHIQUE.shp\n",
      "Ajouté : BATIMENT.shp\n",
      "Ajouté : PYLONE.shp\n",
      "Ajouté : CIMETIERE.shp\n",
      "Ajouté : RESERVOIR.shp\n",
      "Ajouté : POINT_DU_RESEAU.shp\n",
      "Ajouté : AERODROME.shp\n",
      "Ajouté : ITINERAIRE_AUTRE.shp\n",
      "Ajouté : POINT_DE_REPERE.shp\n",
      "Ajouté : EQUIPEMENT_DE_TRANSPORT.shp\n",
      "Ajouté : TRONCON_DE_VOIE_FERREE.shp\n",
      "Ajouté : TRONCON_DE_ROUTE.shp\n",
      "Ajouté : TOPONYMIE_TRANSPORT.shp\n",
      "Ajouté : NON_COMMUNICATION.shp\n",
      "Ajouté : ROUTE_NUMEROTEE_OU_NOMMEE.shp\n",
      "Ajouté : VOIE_NOMMEE.shp\n",
      "Ajouté : SECTION_DE_POINTS_DE_REPERE.shp\n",
      "Ajouté : PISTE_D_AERODROME.shp\n",
      "Ajouté : VOIE_FERREE_NOMMEE.shp\n",
      "Ajouté : ARRONDISSEMENT_MUNICIPAL.shp\n",
      "Ajouté : COMMUNE.shp\n",
      "Ajouté : REGION.shp\n",
      "Ajouté : COLLECTIVITE_TERRITORIALE.shp\n",
      "Ajouté : COMMUNE_ASSOCIEE_OU_DELEGUEE.shp\n",
      "Ajouté : ARRONDISSEMENT.shp\n",
      "Ajouté : EPCI.shp\n",
      "Ajouté : DEPARTEMENT.shp\n",
      "Ajouté : TOPONYMIE_ZONES_REGLEMENTEES.shp\n",
      "Ajouté : FORET_PUBLIQUE.shp\n",
      "Ajouté : PARC_OU_RESERVE.shp\n",
      "Ajouté : SURFACE_HYDROGRAPHIQUE.shp\n",
      "Ajouté : NOEUD_HYDROGRAPHIQUE.shp\n",
      "Ajouté : COURS_D_EAU.shp\n",
      "Ajouté : PLAN_D_EAU.shp\n",
      "Ajouté : TOPONYMIE_HYDROGRAPHIE.shp\n",
      "Ajouté : DETAIL_HYDROGRAPHIQUE.shp\n",
      "Ajouté : TRONCON_HYDROGRAPHIQUE.shp\n",
      "Ajouté : BASSIN_VERSANT_TOPOGRAPHIQUE.shp\n",
      "Ajouté : LIGNE_ELECTRIQUE.shp\n",
      "Ajouté : POSTE_DE_TRANSFORMATION.shp\n",
      "Ajouté : TOPONYMIE_SERVICES_ET_ACTIVITES.shp\n",
      "Ajouté : CANALISATION.shp\n",
      "Ajouté : ERP.shp\n",
      "Ajouté : ZONE_D_ACTIVITE_OU_D_INTERET.shp\n",
      "Ajouté : LIEU_DIT_NON_HABITE.shp\n",
      "Ajouté : DETAIL_OROGRAPHIQUE.shp\n",
      "Ajouté : ZONE_D_HABITATION.shp\n",
      "Ajouté : TOPONYMIE_LIEUX_NOMMES.shp\n",
      "Ajouté : HAIE.shp\n",
      "Ajouté : ZONE_DE_VEGETATION.shp\n",
      "BDTOPO chargé, taille : 996522\n"
     ]
    }
   ],
   "source": [
    "# Chargement base BDTOPO : Fichiers .shp, avec un répertoire par thème (administratif, bâti, etc.)\n",
    "\n",
    "# load_shp() : lecture d'un fichier .shp\n",
    "def load_shp(path):\n",
    "    # Load data\n",
    "    bdtopo = gpd.read_file(path)\n",
    "    # Add Category and Type\n",
    "    bdtopo.insert(0, 'Category', path.split('/')[-2])\n",
    "    bdtopo.insert(1, 'Type', path.split('/')[-1][:-4])\n",
    "    print (f\"Ajouté : {path.split('/')[-1]}\")\n",
    "    return bdtopo\n",
    "\n",
    "# Chargement de tous les fichiers dans le dataframe bdtopo\n",
    "paths_shp = glob.glob(PATHS_BDTOPO)\n",
    "bdtopo = load_shp(paths_shp[0])\n",
    "for path in paths_shp[1:]:\n",
    "    bdtopo = pd.concat([bdtopo, load_shp(path)])\n",
    "bdtopo = bdtopo.reset_index(drop=True)\n",
    "print (f'BDTOPO chargé, taille : {len(bdtopo)}')"
   ]
  },
  {
   "cell_type": "code",
   "execution_count": 6,
   "metadata": {},
   "outputs": [
    {
     "name": "stdout",
     "output_type": "stream",
     "text": [
      "Dataframe bdtopo initial, taille : 996522\n",
      "Conservation des Polygon et MultiPolygon uniquement, taille : 743190\n",
      "Conservation des BATIMENT ET RESERVOIR, taille : 694302\n"
     ]
    }
   ],
   "source": [
    "# Transformations\n",
    "\n",
    "print (f'Dataframe bdtopo initial, taille : {len(bdtopo)}')\n",
    "\n",
    "# Ajout d'un champ GeoType indiquant le type d'objet géométrique\n",
    "bdtopo['GeoType'] = bdtopo['geometry'].geom_type\n",
    "\n",
    "# Nettoyage pour ne conserver que les Polygon et MultiPolygon\n",
    "bdtopo = bdtopo[bdtopo['GeoType'].isin(['Polygon', 'MultiPolygon'])]\n",
    "print (f'Conservation des Polygon et MultiPolygon uniquement, taille : {len(bdtopo)}')\n",
    "\n",
    "# Nettoyage pour ne conserver que les BATIMENT et RESERVOIR\n",
    "bdtopo = bdtopo[bdtopo['Type'].isin(['BATIMENT', 'RESERVOIR'])].reset_index()\n",
    "print (f'Conservation des BATIMENT ET RESERVOIR, taille : {len(bdtopo)}')"
   ]
  },
  {
   "cell_type": "code",
   "execution_count": 7,
   "metadata": {},
   "outputs": [
    {
     "name": "stdout",
     "output_type": "stream",
     "text": [
      "Nb lignes dataframe avant transformation des multi-polygones en polygones : 694302\n",
      "Nb lignes dataframe après transformation des multi-polygones en polygones : 694950\n"
     ]
    }
   ],
   "source": [
    "# transformMultiPolygons() remplace les multi-polygones du dataframe par des polygones\n",
    "# (en ajoutant des lignes) au dataframe\n",
    "\n",
    "def transformMultiPolygonsIntoPolygons(df):\n",
    "    mplines = df[df['GeoType']=='MultiPolygon']\n",
    "    geoindex = mplines.columns.get_loc('geometry')\n",
    "    dfpoly = gpd.GeoDataFrame(columns=['ID', 'geometry'])\n",
    "    all_IDs, all_polygons = [], []\n",
    "    \n",
    "    for index, row in mplines.iterrows():\n",
    "        polygons = list(row.iloc[geoindex].geoms)\n",
    "        all_IDs = all_IDs + [row['ID']]*len(polygons)\n",
    "        all_polygons = all_polygons + polygons\n",
    "\n",
    "    all_polys_df = gpd.GeoDataFrame({'ID' : all_IDs, 'geometry' : all_polygons})\n",
    "    df = df.merge(right=all_polys_df, on='ID', how='left')\n",
    "    df = df.rename({'geometry_x' : 'geometry'}, axis=1)\n",
    "    df.loc[df['GeoType']=='MultiPolygon', 'geometry'] = df.loc[df['GeoType']=='MultiPolygon', 'geometry_y']\n",
    "    df = df.drop(columns=['geometry_y'])\n",
    "    df = gpd.GeoDataFrame(df)\n",
    "    return df\n",
    "\n",
    "print (f'Nb lignes dataframe avant transformation des multi-polygones en polygones : {len(bdtopo)}')\n",
    "bdtopo = transformMultiPolygonsIntoPolygons(bdtopo)\n",
    "print (f'Nb lignes dataframe après transformation des multi-polygones en polygones : {len(bdtopo)}')"
   ]
  },
  {
   "cell_type": "code",
   "execution_count": 6,
   "metadata": {},
   "outputs": [
    {
     "name": "stdout",
     "output_type": "stream",
     "text": [
      "DataFrame sauvegardé sous : /Users/u600141/OneDrive - La Francaise des Jeux/Data/constructions/images/BDTOPO/pickle/bdtopo.pkl\n"
     ]
    }
   ],
   "source": [
    "# Sauvegarde du dataframe au format pickle .pkl\n",
    "\n",
    "path = PATHS_BDTOPO_PICKLE + 'dft.pkl'\n",
    "bdtopo.to_pickle(path)\n",
    "print (f'DataFrame sauvegardé sous : {path}')"
   ]
  }
 ],
 "metadata": {
  "kernelspec": {
   "display_name": "Python 3",
   "language": "python",
   "name": "python3"
  },
  "language_info": {
   "codemirror_mode": {
    "name": "ipython",
    "version": 3
   },
   "file_extension": ".py",
   "mimetype": "text/x-python",
   "name": "python",
   "nbconvert_exporter": "python",
   "pygments_lexer": "ipython3",
   "version": "3.11.5"
  },
  "orig_nbformat": 4
 },
 "nbformat": 4,
 "nbformat_minor": 2
}
