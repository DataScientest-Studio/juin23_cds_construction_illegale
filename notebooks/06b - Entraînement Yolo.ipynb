{
 "cells": [
  {
   "cell_type": "code",
   "execution_count": null,
   "metadata": {},
   "outputs": [],
   "source": [
    "# 06b - Entraînement du modèle Yolo v8\n",
    "# Onutilise la segmentation sémantique avec une taille d'image de 640 pixels"
   ]
  },
  {
   "cell_type": "code",
   "execution_count": 2,
   "metadata": {},
   "outputs": [],
   "source": [
    "# Définitions globales\n",
    "HOME = '/Users/u600141/OneDrive - La Francaise des Jeux/Data/constructions/'\n",
    "PATHS_BDTOPO_PICKLE = HOME + 'images/BDTOPO/pickle/'\n",
    "PATHS_BDORTHO_PICKLE = HOME + 'images/BDORTHO_RGB/pickle/'\n",
    "\n",
    "PATHS_YOLO = HOME + 'images/yolo/'\n",
    "PATHS_MODELS = PATHS_YOLO + 'models/'\n",
    "PATHS_IMG_TRAIN = PATHS_YOLO + 'RGB/images/train/'\n",
    "PATHS_IMG_VALID = PATHS_YOLO + 'RGB/images/val/'\n",
    "PATHS_IMG_TEST = PATHS_YOLO + 'RGB/images/test/'\n",
    "PATHS_LBL_TRAIN = PATHS_YOLO + 'RGB/labels/train/'\n",
    "PATHS_LBL_VALID = PATHS_YOLO + 'RGB/labels/val/'\n",
    "PATHS_LBL_TEST = PATHS_YOLO + 'RGB/labels/test/'\n",
    "\n",
    "SEED = 123\n"
   ]
  },
  {
   "cell_type": "code",
   "execution_count": 3,
   "metadata": {},
   "outputs": [],
   "source": [
    "# Imports\n",
    "import pandas as pd\n",
    "import matplotlib.pyplot as plt\n",
    "from ultralytics import YOLO\n",
    "import torch\n"
   ]
  },
  {
   "cell_type": "code",
   "execution_count": 4,
   "metadata": {},
   "outputs": [],
   "source": [
    "# Chargement du modèle et transfert des poids\n",
    "# NB : normalement, on peut utiliser directement YOLO('yolov8n-seg.pt') si on n'a pas téléchargé le modèle avant\n",
    "# Ici, il s'agit du modèle le plus petit et rapide (nano)\n",
    "model = YOLO(PATHS_MODELS + 'yolov8n-seg.pt')"
   ]
  },
  {
   "cell_type": "code",
   "execution_count": null,
   "metadata": {},
   "outputs": [],
   "source": [
    "# Entraînement - time=10 permet de donner une durée en heures à la place du nombre d'epochs\n",
    "results = model.train(data=PATHS_YOLO + 'constructions.yaml', time=10, imgsz=640, batch=16,\n",
    "                      seed=SEED, save_period=1, verbose=True)"
   ]
  }
 ],
 "metadata": {
  "kernelspec": {
   "display_name": "Python 3",
   "language": "python",
   "name": "python3"
  },
  "language_info": {
   "codemirror_mode": {
    "name": "ipython",
    "version": 3
   },
   "file_extension": ".py",
   "mimetype": "text/x-python",
   "name": "python",
   "nbconvert_exporter": "python",
   "pygments_lexer": "ipython3",
   "version": "3.11.5"
  }
 },
 "nbformat": 4,
 "nbformat_minor": 2
}
