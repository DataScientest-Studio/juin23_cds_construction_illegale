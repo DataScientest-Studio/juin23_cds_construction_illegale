{
 "cells": [
  {
   "cell_type": "code",
   "execution_count": null,
   "id": "0749d7ce-f1c5-43fd-aa11-9720e150e27a",
   "metadata": {
    "jupyter": {
     "source_hidden": true
    }
   },
   "outputs": [],
   "source": [
    "# Imports et paths globaux\n",
    "import rasterio\n",
    "import numpy as np\n",
    "import glob\n",
    "import plotly.express as px\n",
    "import plotly.graph_objs as go\n",
    "import cv2\n",
    "import pandas as pd\n",
    "import geopandas as gpd\n",
    "import os\n",
    "import matplotlib.pyplot as plt\n",
    "\n",
    "\n",
    "HOME = '/Users/u600141/OneDrive - La Francaise des Jeux/Data/constructions/'\n",
    "PATHS_BDORTHO = HOME + 'images/BDORTHO_RGB/source/1_DONNEES_LIVRAISON_2022-06-00141/OHR_RVB_0M20_JP2-E080_LAMB93_D92-2021/*.jp2'\n",
    "PATHS_BDTOPO = HOME + 'images/BDTOPO/source/1_DONNEES_LIVRAISON_2023-06-00117/BDT_3-3_SHP_LAMB93_D092-ED2023-06-15/*/*.shp'\n",
    "\n"
   ]
  },
  {
   "cell_type": "code",
   "execution_count": null,
   "id": "ca438c40-c9b0-49cb-96d1-003387d44715",
   "metadata": {
    "jupyter": {
     "source_hidden": true
    }
   },
   "outputs": [],
   "source": [
    "# Fonctions pour chargement base bdortho : Fichiers .tab et .jp2, tous sous le même répertoire\n",
    "\n",
    "# Lecture d'un fichier .tab\n",
    "# On cherche les lignes de type : (640000.00,6860000.00) (0,0) Label \"Pt 1\",\n",
    "def load_tabfile(path):\n",
    "    with open(path, 'r') as f:\n",
    "        lines = f.readlines()\n",
    "\n",
    "    coords = []\n",
    "    for line in lines:\n",
    "        if '(' in line and ')' in line:\n",
    "            # récupère le premier tuple, eg. (640000.00,6860000.00)\n",
    "            coord_str = line.split('(')[1].split(')')[0]\n",
    "            coords.append(tuple(map(float, coord_str.split(','))))\n",
    "    # coords contient les 4 tuples du fichier, eg. [(635000.0, 6860000.0), (640000.0, 6860000.0), (640000.0, 6855000.0), (635000.0, 6855000.0)]\n",
    "    # rasterio.transform.from_bounds(west, south, east, north, width, height) retourne un objet de classe Affine \n",
    "    return rasterio.transform.from_bounds(*coords[0], *coords[2], len(coords[0]) // 2, len(coords) // 2) ## QUESTION rasterio.transform.from_bounds(*coords[0], *coords[2] 1 , 2\n",
    "\n",
    "# Lecture d'un fichier .jp2\n",
    "# retourne value (image), xrange et yrange(coordonnées des points extrêmes)\n",
    "def load_image(path):\n",
    "    with rasterio.open(path) as src:\n",
    "        value = np.transpose(src.read(), [1,2,0]) # channel x hauteur x largeur --> hauteur x largeur x channel\n",
    "        resolution = src.res\n",
    "        bounds = src.bounds  \n",
    "    transfrom = load_tabfile(path[:-3]+\"tab\") # TRANSFROM JAMAIS UTILISEE\n",
    "    xrange = [bounds.left, bounds.right]\n",
    "    yrange = [bounds.bottom, bounds.top]\n",
    "    return value, xrange, yrange\n"
   ]
  },
  {
   "cell_type": "code",
   "execution_count": null,
   "id": "a5280102",
   "metadata": {},
   "outputs": [],
   "source": [
    "# Exemple de lecture d'une image parmi celles de la base ORTHO\n",
    "paths_ortho = glob.glob(PATHS_BDORTHO)\n",
    "value, xrange, yrange = load_image(paths_ortho[5])\n",
    "\n",
    "print (f\"Image exemple chargée : {paths_ortho[5].split('/')[-1]}\")\n",
    "print (f'value.shape = {value.shape}')\n",
    "print (f'xrange = {xrange}, yrange = {yrange}')"
   ]
  },
  {
   "cell_type": "code",
   "execution_count": null,
   "id": "019a5f99-821b-41f7-95c4-ac5e4a4390dd",
   "metadata": {
    "jupyter": {
     "source_hidden": true
    }
   },
   "outputs": [],
   "source": [
    "# Histogramme avant normalisation des couches de couleur\n",
    "def display_histograms(value):\n",
    "    colors = ['r', 'g', 'b']\n",
    "    fig = plt.figure(figsize=(10, 4))\n",
    "    for i in range(0, 3):\n",
    "        fig.add_subplot(1, 3, i+1)\n",
    "        plt.hist(value[..., i].flatten(), bins=255, color=colors[i])\n",
    "    plt.show();\n",
    "\n",
    "display_histograms(value)"
   ]
  },
  {
   "cell_type": "code",
   "execution_count": null,
   "id": "243b44f3-23fd-4199-9acb-1d8e01e16bea",
   "metadata": {
    "jupyter": {
     "source_hidden": true
    }
   },
   "outputs": [],
   "source": [
    "# Normalisation de chaque couche de couleur\n",
    "# De plus, les valeurs parmi les 20% plus faibles ou plus élevées sont forcées à la valeur min ou max\n",
    "\n",
    "def normalize_band(band, lower_percentile=20, upper_percentile=80):\n",
    "    lower_value, upper_value = np.percentile(band, (lower_percentile, upper_percentile))\n",
    "    print (f'lower value : {lower_value} - upper value : {upper_value}')\n",
    "    return np.clip((band - lower_value) / (upper_value - lower_value), 0, 1)\n",
    "\n",
    "value[...,0]=normalize_band(value[...,0])*255\n",
    "value[...,1]=normalize_band(value[...,1])*255\n",
    "value[...,2]=normalize_band(value[...,2])*255\n",
    "\n",
    "# Affichage de l'histogramme après normalisation\n",
    "display_histograms(value)"
   ]
  },
  {
   "cell_type": "code",
   "execution_count": null,
   "id": "0bf49757-7b2c-4a00-9d1b-7021ccfee134",
   "metadata": {},
   "outputs": [],
   "source": [
    "# Chargement base BDTOPO : Fichiers .shp, avec un répertoire par thème (administratif, bâti, etc.)\n",
    "\n",
    "# Lecture d'un fichier .shp\n",
    "def load_shp(path):\n",
    "    # Load data\n",
    "    bdtopo = gpd.read_file(path)\n",
    "    # Add Category and Type\n",
    "    bdtopo.insert(0, 'Category', path.split('/')[-2])\n",
    "    bdtopo.insert(1, 'Type', path.split('/')[-1][:-4])\n",
    "    return bdtopo\n",
    "\n",
    "# Lecture d'un fichier \n",
    "paths_shp = glob.glob(PATHS_BDTOPO)\n",
    "bdtopo = load_shp(paths_shp[0])\n",
    "for path in paths_shp[1:]:\n",
    "    bdtopo = pd.concat([bdtopo, load_shp(path)])\n",
    "bdtopo.reset_index(drop=True, inplace=True)\n",
    "\n",
    "print (f'bdtopo chargé, taille {len(bdtopo)}')\n",
    "bdtopo"
   ]
  },
  {
   "cell_type": "markdown",
   "id": "d609071d-4a4b-40a8-aa11-a5f653f92595",
   "metadata": {},
   "source": [
    "QUELQUES ELEMENTS POUR QUALIFIER BDTOPO"
   ]
  },
  {
   "cell_type": "code",
   "execution_count": null,
   "id": "44125b5d",
   "metadata": {
    "jupyter": {
     "source_hidden": true
    }
   },
   "outputs": [],
   "source": [
    "# Rapport exploratoire de BDORTHO : liste et taille des fichiers\n",
    "\n",
    "for f in paths_ortho:\n",
    "    print (f\"{f.split('/')[-1]} - {round(os.stat(f).st_size / (1024*1024), 2)} Mo\")"
   ]
  },
  {
   "cell_type": "code",
   "execution_count": null,
   "id": "3988aa7a-be74-4887-aa2e-c2352d9b39e1",
   "metadata": {},
   "outputs": [],
   "source": [
    "# Rapport exploratoire de BDTOPO : recherche des dtypes et isna() et enregistrement dans un fichier .csv\n",
    "\n",
    "cols = pd.DataFrame({'Type' : bdtopo.dtypes})\n",
    "cols['isna()'] = round(bdtopo.isna().sum() / len(bdtopo), 2)\n",
    "cols.to_csv('bdtopo_cols.csv')\n",
    "cols"
   ]
  },
  {
   "cell_type": "code",
   "execution_count": null,
   "id": "d0783c08-0da9-4f98-9197-17908839b273",
   "metadata": {},
   "outputs": [],
   "source": [
    "# Contenu du champ geometry\n",
    "print (bdtopo['geometry'])"
   ]
  },
  {
   "cell_type": "code",
   "execution_count": null,
   "id": "237b825f-1bea-4786-b09e-55f42f20dc8c",
   "metadata": {},
   "outputs": [],
   "source": [
    "# Répartition du champ Category\n",
    "print (bdtopo['Category'].value_counts(normalize=True))"
   ]
  },
  {
   "cell_type": "code",
   "execution_count": null,
   "id": "5ae18816-75a3-4265-82c6-7c799f86d156",
   "metadata": {},
   "outputs": [],
   "source": [
    "# Répartition du champ Type\n",
    "print (bdtopo['Type'].value_counts(normalize=True))\n",
    "print (len(bdtopo['Type'].value_counts()))"
   ]
  },
  {
   "cell_type": "code",
   "execution_count": null,
   "id": "b097248f-8e03-4841-b658-c4c20a1652da",
   "metadata": {},
   "outputs": [],
   "source": [
    "# Nombre d'éléments par catégorie et type, avec exemple de géométrie qu'ils contiennent\n",
    "bdtopo.groupby(['Category','Type']).agg(count=('Type','count'), geometry=(\"geometry\", 'first'))"
   ]
  },
  {
   "cell_type": "code",
   "execution_count": null,
   "id": "2b79ae53",
   "metadata": {},
   "outputs": [],
   "source": [
    "# Exemple de contenu de chacune des colonnes renseignées\n",
    "\n",
    "c = bdtopo.isna().sum()\n",
    "cols = pd.DataFrame({'Column' : c.index, 'NAs' : c}).sort_values('NAs')\n",
    "cols = cols.loc[cols['NAs'] < len(bdtopo)] # on supprime les colonnes non renseignées\n",
    "\n",
    "for e in zip(cols['Column'], cols['NAs']):\n",
    "    val = bdtopo.loc[~(bdtopo[e[0]].isna()), e[0]].iloc[0]\n",
    "    print (e, val)\n"
   ]
  },
  {
   "cell_type": "code",
   "execution_count": null,
   "id": "bdf86d5a-5efc-4c77-a41e-b81374aa23d4",
   "metadata": {},
   "outputs": [],
   "source": [
    "# Ajout d'un champ GeoType indiquant le type d'objet géométrique\n",
    "bdtopo['GeoType'] = bdtopo['geometry'].geom_type\n",
    "print (bdtopo['GeoType'].value_counts(normalize=True))"
   ]
  },
  {
   "cell_type": "code",
   "execution_count": null,
   "id": "7e2cc332-2ad6-4582-aff1-78ba21aabede",
   "metadata": {
    "editable": true,
    "slideshow": {
     "slide_type": ""
    },
    "tags": []
   },
   "outputs": [],
   "source": [
    "# Type de géométrie par catégorie\n",
    "bdtopo.groupby(['Category', 'GeoType']).agg(count=('GeoType','count'))"
   ]
  },
  {
   "cell_type": "code",
   "execution_count": null,
   "id": "d89ed95a-19ae-4162-95c9-bf0f44827b38",
   "metadata": {},
   "outputs": [],
   "source": [
    "# Analyse du champ ID\n",
    "print (bdtopo['ID'].value_counts().value_counts(normalize=True)) # Le champ est-il un vrai identifiant (unique) ?\n",
    "print (bdtopo['ID'].value_counts().head()) # Détail des doublons\n",
    "print (bdtopo[bdtopo['ID']=='PAIHABIT0000000331305224']) # Exemple d'un ID dupliqué"
   ]
  },
  {
   "cell_type": "code",
   "execution_count": null,
   "id": "2e37e84b-441d-4f26-9025-e879ae9e0ba7",
   "metadata": {
    "scrolled": true
   },
   "outputs": [],
   "source": [
    "# Autres champs catégoriels : value_counts()\n",
    "print (bdtopo['ACQU_PLANI'].value_counts(normalize=True))\n",
    "print ('\\n', bdtopo['NATURE'].value_counts(normalize=True))\n",
    "print ('\\n', bdtopo['ETAT'].value_counts(normalize=True))\n",
    "print ('\\n', bdtopo['ACQU_ALTI'].value_counts(normalize=True))\n",
    "print ('\\n', bdtopo['ORIGIN_BAT'].value_counts(normalize=True))\n",
    "print ('\\n', bdtopo['LEGER'].value_counts(normalize=True))\n",
    "print ('\\n', bdtopo['USAGE1'].value_counts(normalize=True))\n"
   ]
  },
  {
   "cell_type": "code",
   "execution_count": null,
   "id": "f32fbc8d-df6a-422c-bc52-1a2b0d9a9dee",
   "metadata": {
    "jupyter": {
     "source_hidden": true
    },
    "scrolled": true
   },
   "outputs": [],
   "source": [
    "# Exemple de figure de chaque type\n",
    "\n",
    "# geometry : recherche d'un exemple par type de figure\n",
    "shapes = bdtopo.groupby(['GeoType']).agg({'geometry' : 'first'}).reset_index()\n",
    "print (shapes)\n",
    "\n",
    "# Affichage des figures\n",
    "n = round((len(shapes)**(1/2)+0.5))\n",
    "fig = plt.figure(figsize=(8, 8))\n",
    "for i in range(0, len(shapes)):\n",
    "    s = fig.add_subplot(n, n, i+1)\n",
    "    f = gpd.GeoSeries(shapes.iloc[i,1]) # iloc retourne une shape et pas une GeoSeries, au contraire de loc\n",
    "    f.plot(ax=s)\n",
    "    s.set_title(str(shapes.iloc[i,1]).split('(')[0])\n",
    "    plt.xticks([])\n",
    "    plt.yticks([])\n",
    "plt.subplots_adjust(wspace=0.4, hspace=0.4)\n",
    "\n",
    "plt.show();"
   ]
  },
  {
   "cell_type": "markdown",
   "id": "14bb78ad-8356-428d-abb7-2cc7a2bcd8f2",
   "metadata": {},
   "source": [
    "DOCUMENTATION et LIENS UTILES\n",
    "\n",
    "https://geoservices.ign.fr/sites/default/files/2021-07/DC_BDTOPO_3-0.pdf\n",
    "https://shapely.readthedocs.io/en/stable/reference/shapely.Polygon.html\n"
   ]
  },
  {
   "cell_type": "markdown",
   "id": "2d005238-ce9d-4529-a3ba-64d5b5319eee",
   "metadata": {},
   "source": [
    "FONCTIONS UTILES"
   ]
  },
  {
   "cell_type": "code",
   "execution_count": null,
   "id": "def07677-a7b8-4759-baeb-cf7a2c1188ff",
   "metadata": {
    "jupyter": {
     "source_hidden": true
    },
    "scrolled": true
   },
   "outputs": [],
   "source": [
    "# Fonctions utiles pour le positionnement : isInMap(), convert_centroid(), convert_polygon()\n",
    "\n",
    "map_size = [5000,5000]\n",
    "\n",
    "# Variables globales utilisées :\n",
    "#    map_size : taille finale de l'image à afficher\n",
    "#    xrange et yrange : limites de l'image initiale (chargée précédemment)\n",
    "\n",
    "# isInMap : retourne True si le centroïde du polygone est dans l'image de limites (xrange, yrange)\n",
    "def isInMap(xrange, yrange):\n",
    "    def my_function(polynom):\n",
    "        x, y = polynom.centroid.x, polynom.centroid.y\n",
    "        if xrange[0]<x and xrange[1]>x and yrange[0]<y and yrange[1]>y:\n",
    "            return True\n",
    "        else :\n",
    "            return False\n",
    "        \n",
    "    return my_function\n",
    "\n",
    "# convert_centroid : retourne les coordonnées du centroïde converties dans la taille de l'image à afficher (de taille map_size)\n",
    "def convert_centroid(map_size, xrange, yrange):\n",
    "    def my_function(polygon):\n",
    "        x, y = polygon.centroid.x, polygon.centroid.y\n",
    "        x_new = (x - xrange[0])/(xrange[1]-xrange[0])*map_size[0]\n",
    "        y_new = map_size[1] - (y - yrange[0])/(yrange[1]-yrange[0])*map_size[1]\n",
    "        return [x_new, y_new]\n",
    "    \n",
    "    return my_function\n",
    "\n",
    "# convert_polygon : retourne les listes de coordonnées de la shape converties dans la taille de l'image à afficher (de taille map_size)\n",
    "def convert_polygon(map_size, xrange, yrange):\n",
    "    def my_function(polygon):\n",
    "        if polygon.wkt.lower()[:7]=='polygon':\n",
    "            x, y = polygon.exterior.coords.xy\n",
    "            x = x.tolist()\n",
    "            y = y.tolist()\n",
    "        elif polygon.wkt[:10]=='LINESTRING':\n",
    "            x, y = polygon.coords.xy\n",
    "            x = x.tolist()\n",
    "            x += x[::-1]\n",
    "            y = y.tolist()\n",
    "            y += y[::-1]       \n",
    "        else :\n",
    "            x = [1,2]\n",
    "            y = [1,2]\n",
    "        x = np.array(x)\n",
    "        y = np.array(y) \n",
    "        x_new = (x - xrange[0])/(xrange[1]-xrange[0])*map_size[0]\n",
    "        y_new = map_size[1] - (y - yrange[0])/(yrange[1]-yrange[0])*map_size[1]\n",
    "        \n",
    "        return [x_new, y_new]\n",
    "    \n",
    "    return my_function\n",
    "\n",
    "# On crée bdtopo_zone : ensemble des shapes de la base qui ont leur centroïde dans l'image chargée\n",
    "bdtopo_zone = bdtopo[bdtopo['geometry'].apply(isInMap(xrange, yrange))].copy()\n",
    "print('Avant :', bdtopo.shape, 'Après :', bdtopo_zone.shape)\n",
    "\n",
    "# Ajout du centroïde\n",
    "bdtopo_zone['centroid'] = bdtopo_zone['geometry'].apply(convert_centroid(map_size, xrange, yrange))\n",
    "bdtopo_zone['xcentroid'] = bdtopo_zone['centroid'].apply(lambda x : x[0])\n",
    "bdtopo_zone['ycentroid'] = bdtopo_zone['centroid'].apply(lambda x : x[1])\n",
    "\n",
    "# On distingue la zone en bdtopo_point (ensemble des points) et bdtopo_zone (autres shapes)\n",
    "bdtopo_point = bdtopo_zone[bdtopo['geometry'].apply(lambda x : x.wkt.lower()[:5]==\"point\")]\n",
    "bdtopo_zone = bdtopo_zone[bdtopo_zone['geometry'].apply(lambda x : x.wkt.lower()[:7]==\"polygon\" or x.wkt[:10]==\"LINESTRING\")]\n",
    "\n",
    "# Ajout des colonnes 'polygone' avec les polygones dans la taille de l'image à afficher\n",
    "bdtopo_zone['polygon'] = bdtopo_zone['geometry'].apply(convert_polygon(map_size, xrange, yrange))\n",
    "bdtopo_zone['xpolygon'] = bdtopo_zone['polygon'].apply(lambda x : x[0])\n",
    "bdtopo_zone['ypolygon'] = bdtopo_zone['polygon'].apply(lambda x : x[1])\n",
    "\n",
    "bdtopo_zone.head()"
   ]
  },
  {
   "cell_type": "code",
   "execution_count": null,
   "id": "ec059904-efdc-4d1a-bddf-d7c21e7561d2",
   "metadata": {
    "jupyter": {
     "source_hidden": true
    }
   },
   "outputs": [],
   "source": [
    "# Fonctions utiles pour le positionnement (suite) : generate_xy_polygons(), generate_x_polygons()\n",
    "\n",
    "# generate_xy_polygons :  transformation des coordonnées d'une zone en listes + inversion de la coordonnée y\n",
    "def generate_xy_polygons(bdtopo_area):\n",
    "\n",
    "    list_x = []\n",
    "    for xpoly in bdtopo_area['xpolygon']:\n",
    "        list_x.extend(xpoly.tolist() + [None])\n",
    "    list_x = list_x[:-1]\n",
    "    \n",
    "    list_y = []\n",
    "    for ypoly in bdtopo_area['ypolygon']:\n",
    "        ypoly = map_size[1]-ypoly\n",
    "        list_y.extend(ypoly.tolist() + [None])\n",
    "    list_y = list_y[:-1]\n",
    "    \n",
    "    return list_x, list_y\n",
    "\n",
    "# generate_x_polygons : transformation du Array en liste\n",
    "def generate_x_polygons(xdata):\n",
    "    list_x = []\n",
    "    for xpoly in xdata:\n",
    "        list_x.extend(xpoly.tolist() + [None])\n",
    "    list_x = list_x[:-1]\n",
    "    return list_x\n",
    "\n",
    "# Création de bdtopo_zone_agregate, qui comporte une ligne par type, avec toutes les figures de ce type dans les mêmes champs x et y\n",
    "bdtopo_zone_agregate = bdtopo_zone.groupby('Type').agg({'xpolygon':list, 'ypolygon':list})\n",
    "bdtopo_zone_agregate['xpolygon_ready'] = bdtopo_zone_agregate['xpolygon'].apply(generate_x_polygons)\n",
    "bdtopo_zone_agregate['ypolygon_ready'] = bdtopo_zone_agregate['ypolygon'].apply(generate_x_polygons)\n",
    "bdtopo_zone_agregate"
   ]
  },
  {
   "cell_type": "code",
   "execution_count": null,
   "id": "f1343060-9fdf-483a-a618-77e591c6e51d",
   "metadata": {
    "jupyter": {
     "source_hidden": true
    }
   },
   "outputs": [],
   "source": [
    "# Création de bdtopo_point_agregate, qui comporte une ligne par type, avec tous les points de ce type\n",
    "\n",
    "bdtopo_point_agregate = bdtopo_point.groupby('Type').agg({'xcentroid':list, 'ycentroid':list})\n",
    "bdtopo_point_agregate"
   ]
  },
  {
   "cell_type": "code",
   "execution_count": null,
   "id": "25bea7e8-0027-46b8-8b8a-33cc9f2cad09",
   "metadata": {},
   "outputs": [],
   "source": [
    "# show_map() : affiche la carte avec les shapes\n",
    "\n",
    "def show_map(value, scatters_data, scatters_list_name, points_data, points_list_name,\n",
    "             showOrtho=True, showTopo=True):\n",
    "\n",
    "    if (showOrtho):\n",
    "        image = px.imshow(cv2.resize(value, (5000,5000)))\n",
    "    \n",
    "    if (showTopo):\n",
    "        points = []\n",
    "        \n",
    "        for i, (list_x, list_y) in enumerate(scatters_data):\n",
    "            # Ajouter des points\n",
    "            point = go.Scatter(\n",
    "                x=list_x,\n",
    "                y=list_y,\n",
    "                fill=\"toself\",\n",
    "                name=scatters_list_name[i],\n",
    "            #     fillcolor=\"blue\"\n",
    "    \n",
    "            )\n",
    "            points.append(point)\n",
    "            \n",
    "        for i, (list_x, list_y) in enumerate(points_data):\n",
    "            # Ajouter des points\n",
    "            point = go.Scatter(\n",
    "                x=list_x,\n",
    "                y=list_y,\n",
    "                mode='markers',\n",
    "                marker=dict( size=5),\n",
    "                name=points_list_name[i]\n",
    "            )\n",
    "            points.append(point)\n",
    "\n",
    "    # Créer la figure\n",
    "    if (showOrtho & showTopo):\n",
    "        fig = go.Figure(data=[image.data[0]] + points)\n",
    "    elif (showOrtho):\n",
    "        fig = go.Figure(data=[image.data[0]])\n",
    "    else:\n",
    "        fig = go.Figure(data=points)\n",
    "        \n",
    "    fig.update_xaxes(range=[0,5000])\n",
    "    fig.update_yaxes(range=[0,5000])\n",
    "    \n",
    "    fig.update_layout(\n",
    "        autosize=False,\n",
    "        width=1000,\n",
    "        height=800,)\n",
    "\n",
    "    # Afficher la figure\n",
    "    fig.show()\n",
    "\n",
    "show_map(value,\n",
    "         bdtopo_zone_agregate[['xpolygon_ready', 'ypolygon_ready']].values,\n",
    "         bdtopo_zone_agregate.index,\n",
    "         bdtopo_point_agregate[['xcentroid', 'ycentroid']].values,\n",
    "         bdtopo_point_agregate.index)"
   ]
  },
  {
   "cell_type": "code",
   "execution_count": null,
   "id": "e63d8deb",
   "metadata": {},
   "outputs": [],
   "source": [
    "# Affichage de l'image sans la topographie\n",
    "\n",
    "show_map(value, None, None, None, None, showTopo=False)"
   ]
  },
  {
   "cell_type": "code",
   "execution_count": null,
   "id": "0d330923-3210-4779-bbe1-621322f9a82a",
   "metadata": {},
   "outputs": [],
   "source": [
    "# Affichage de la topographie sans l'image\n",
    "show_map(value,\n",
    "         bdtopo_zone_agregate[['xpolygon_ready', 'ypolygon_ready']].values,\n",
    "         bdtopo_zone_agregate.index,\n",
    "         bdtopo_point_agregate[['xcentroid', 'ycentroid']].values,\n",
    "         bdtopo_point_agregate.index,\n",
    "        showOrtho=False)"
   ]
  }
 ],
 "metadata": {
  "kernelspec": {
   "display_name": "Python 3 (ipykernel)",
   "language": "python",
   "name": "python3"
  },
  "language_info": {
   "codemirror_mode": {
    "name": "ipython",
    "version": 3
   },
   "file_extension": ".py",
   "mimetype": "text/x-python",
   "name": "python",
   "nbconvert_exporter": "python",
   "pygments_lexer": "ipython3",
   "version": "3.11.5"
  }
 },
 "nbformat": 4,
 "nbformat_minor": 5
}
